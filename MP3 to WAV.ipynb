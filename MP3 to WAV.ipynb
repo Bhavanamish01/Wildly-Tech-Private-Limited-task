{
 "cells": [
  {
   "cell_type": "code",
   "execution_count": 8,
   "id": "ef5e9886",
   "metadata": {},
   "outputs": [],
   "source": [
    "# import required modules\n",
    "from os import path\n",
    "from pydub import AudioSegment"
   ]
  },
  {
   "cell_type": "code",
   "execution_count": 11,
   "id": "0acf5d18",
   "metadata": {},
   "outputs": [],
   "source": [
    "# assign files\n",
    "input_file = \"Kehne Ko Jashne Bahara Hai_64-(PagalWorld.Ink).mp3\"\n",
    "des= \"C:\\Bhavna_data\\Desktop\\JUPYTER\\Scripts\\Argument2\\result.wav\""
   ]
  },
  {
   "cell_type": "code",
   "execution_count": 12,
   "id": "56ceed8a",
   "metadata": {},
   "outputs": [],
   "source": [
    "# convert mp3 file to wav file\n",
    "sound = AudioSegment_from_mp3(input_file)\n",
    "sound.export(des, format=\"wav\")"
   ]
  },
  {
   "cell_type": "code",
   "execution_count": null,
   "id": "2c75dc8f",
   "metadata": {},
   "outputs": [],
   "source": []
  }
 ],
 "metadata": {
  "kernelspec": {
   "display_name": "Python 3 (ipykernel)",
   "language": "python",
   "name": "python3"
  },
  "language_info": {
   "codemirror_mode": {
    "name": "ipython",
    "version": 3
   },
   "file_extension": ".py",
   "mimetype": "text/x-python",
   "name": "python",
   "nbconvert_exporter": "python",
   "pygments_lexer": "ipython3",
   "version": "3.9.6"
  }
 },
 "nbformat": 4,
 "nbformat_minor": 5
}
